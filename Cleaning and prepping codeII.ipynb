{
 "cells": [
  {
   "cell_type": "code",
   "execution_count": 1,
   "metadata": {},
   "outputs": [],
   "source": [
    "import numpy as np\n",
    "import pandas as pd\n",
    "import matplotlib.pyplot as plt\n",
    "import statsmodels.api as sm\n",
    "import numpy as np\n",
    "from scipy.optimize import minimize\n",
    "from __future__ import division\n",
    "import statsmodels.api as sm"
   ]
  },
  {
   "cell_type": "code",
   "execution_count": 2,
   "metadata": {},
   "outputs": [],
   "source": [
    "df = pd.read_csv(r'C:\\Users\\xelin\\OneDrive\\Desktop\\Graduate School\\3rd trimester\\supply chain + forecasting\\final\\original data.csv')"
   ]
  },
  {
   "cell_type": "code",
   "execution_count": 3,
   "metadata": {},
   "outputs": [],
   "source": [
    "df.Date = df.Date.apply(lambda x: pd.Timestamp(x))"
   ]
  },
  {
   "cell_type": "code",
   "execution_count": 4,
   "metadata": {},
   "outputs": [
    {
     "data": {
      "text/plain": [
       "Product_Code                object\n",
       "Warehouse                   object\n",
       "Product_Category            object\n",
       "Date                datetime64[ns]\n",
       "Order_Demand                 int64\n",
       "dtype: object"
      ]
     },
     "execution_count": 4,
     "metadata": {},
     "output_type": "execute_result"
    }
   ],
   "source": [
    "df.dtypes"
   ]
  },
  {
   "cell_type": "code",
   "execution_count": 5,
   "metadata": {},
   "outputs": [],
   "source": [
    "\n",
    "df['Order_Demand'] = df['Order_Demand'].replace('(','')\n",
    "df['Order_Demand'] = df['Order_Demand'].replace(')','')\n",
    "df['Order_Demand'] = pd.to_numeric(df['Order_Demand'])\n",
    "df = df[(df['Order_Demand']>0)]\n",
    "perw = df.Date.dt.to_period(\"W\")\n",
    "perm = df.Date.dt.to_period(\"M\")\n",
    "#sort by producct and warehouse \n",
    "\n",
    "df['Product_Code'] = df['Product_Code'].str.replace(r'[^0-9]+', '')\n",
    "df['Warehouse'] = df['Warehouse'].str.replace(r'Whse_', '')\n",
    "df['Product_Category'] = df['Product_Category'].str.replace(r'[^0-9]+', '')\n"
   ]
  },
  {
   "cell_type": "code",
   "execution_count": 6,
   "metadata": {},
   "outputs": [],
   "source": [
    "#perw = df.Date.dt.to_period(\"W\")\n",
    "#perm = df.Date.dt.to_period(\"M\")\n",
    "df_w = df.groupby(['Product_Code', perw]).agg({'Order_Demand':np.sum , 'Warehouse':pd.Series.mode, 'Product_Category':pd.Series.mode})\n",
    "df_w.reset_index(inplace=True)\n",
    "df_m = df.groupby(['Product_Code', perm]).agg({'Order_Demand':np.sum , 'Warehouse':pd.Series.mode, 'Product_Category':pd.Series.mode})\n",
    "df_m.reset_index(inplace=True)\n",
    "\n"
   ]
  },
  {
   "cell_type": "markdown",
   "metadata": {},
   "source": [
    "Expontial Smoothing with Weekly Data\n"
   ]
  },
  {
   "cell_type": "code",
   "execution_count": 7,
   "metadata": {},
   "outputs": [
    {
     "data": {
      "text/html": [
       "<div>\n",
       "<style scoped>\n",
       "    .dataframe tbody tr th:only-of-type {\n",
       "        vertical-align: middle;\n",
       "    }\n",
       "\n",
       "    .dataframe tbody tr th {\n",
       "        vertical-align: top;\n",
       "    }\n",
       "\n",
       "    .dataframe thead th {\n",
       "        text-align: right;\n",
       "    }\n",
       "</style>\n",
       "<table border=\"1\" class=\"dataframe\">\n",
       "  <thead>\n",
       "    <tr style=\"text-align: right;\">\n",
       "      <th></th>\n",
       "      <th>Order_Demand</th>\n",
       "    </tr>\n",
       "  </thead>\n",
       "  <tbody>\n",
       "    <tr>\n",
       "      <th>0</th>\n",
       "      <td>200</td>\n",
       "    </tr>\n",
       "    <tr>\n",
       "      <th>1</th>\n",
       "      <td>100</td>\n",
       "    </tr>\n",
       "    <tr>\n",
       "      <th>2</th>\n",
       "      <td>1300</td>\n",
       "    </tr>\n",
       "    <tr>\n",
       "      <th>3</th>\n",
       "      <td>6200</td>\n",
       "    </tr>\n",
       "    <tr>\n",
       "      <th>4</th>\n",
       "      <td>900</td>\n",
       "    </tr>\n",
       "    <tr>\n",
       "      <th>...</th>\n",
       "      <td>...</td>\n",
       "    </tr>\n",
       "    <tr>\n",
       "      <th>228</th>\n",
       "      <td>100</td>\n",
       "    </tr>\n",
       "    <tr>\n",
       "      <th>229</th>\n",
       "      <td>500</td>\n",
       "    </tr>\n",
       "    <tr>\n",
       "      <th>230</th>\n",
       "      <td>600</td>\n",
       "    </tr>\n",
       "    <tr>\n",
       "      <th>231</th>\n",
       "      <td>800</td>\n",
       "    </tr>\n",
       "    <tr>\n",
       "      <th>232</th>\n",
       "      <td>300</td>\n",
       "    </tr>\n",
       "  </tbody>\n",
       "</table>\n",
       "<p>233 rows × 1 columns</p>\n",
       "</div>"
      ],
      "text/plain": [
       "     Order_Demand\n",
       "0             200\n",
       "1             100\n",
       "2            1300\n",
       "3            6200\n",
       "4             900\n",
       "..            ...\n",
       "228           100\n",
       "229           500\n",
       "230           600\n",
       "231           800\n",
       "232           300\n",
       "\n",
       "[233 rows x 1 columns]"
      ]
     },
     "execution_count": 7,
     "metadata": {},
     "output_type": "execute_result"
    }
   ],
   "source": [
    "testw = df_w[df_w.Product_Code == '0001'].reset_index()[['Order_Demand']]\n",
    "testw"
   ]
  },
  {
   "cell_type": "code",
   "execution_count": 8,
   "metadata": {},
   "outputs": [
    {
     "data": {
      "text/plain": [
       "array([  200,   100,  1300,  6200,   900,  1100,  1200,  3000,   300,\n",
       "        4500,  4200,  1100,  2500,  6000,  4500,   500,   900,   900,\n",
       "        1000,  6100,  2400,   200,   500,  2000,  1000,  2900,   500,\n",
       "        6100,  1000,   400,  2600,   200,  4000,  1200,  2600,  1300,\n",
       "        2700,   500,  3500,  8000,  6800,  1200,  4300,  1200,   200,\n",
       "        1400,   300,  1200,  4100,   300,   400,  2500,  3000,  1400,\n",
       "        4700,   100,  3100,   800,  7700,  4100,   300,  3600,   600,\n",
       "        2800,   300,  2000,   300,  1200,  4900,  2400,  2200,   200,\n",
       "        2300,   300,  3600,  2800,  1000,  2300,   100,  1000,  1700,\n",
       "         200,  3300,  1200,   400,   700,  3500,  6200,  2800,  2100,\n",
       "        3800,  4500,  2700,  1600,  1600,  1100,  3100,  1300,   700,\n",
       "         100,   300,  3700,   900,   800,  4900,   200,   100,  2000,\n",
       "        5000,   700,   100,   600,  1500,  4100,  2600,  4000,  3200,\n",
       "        1000,  1400,  2200,  5000,  1100,  1500,  2000,  1800,  4200,\n",
       "         300,  2100,  3700,  2800,   700,  3700,   500,  6000,   200,\n",
       "        6800,   500,  4900,   200,  1000,   600,  3200,   100,  1200,\n",
       "        2200,  3100,  1500,   400,  4100,  1400,  3600,  1300,   600,\n",
       "         600,   300,  4200,  1000,  2000,  2300,   200,   900,  1300,\n",
       "         300,  2000,   400,   300,  4400,   400,  1400,  2300,  2500,\n",
       "        4000,  2300,  1500,   400,  7100,   600,  1600,   100,   300,\n",
       "         300,   300,  2600,  1000,  1600,   500,   100,  1100,   100,\n",
       "         600,   300,   500,  1100,  2100,  2600,  2600,   300,  2800,\n",
       "        3000,   600,  2000,   500,   600,   300,   600,  4600,  6700,\n",
       "        4000,  1000,   600,   800,  3400,   500,   300,  4500,  2500,\n",
       "        2000,  2300,  1300,   100,   800, 13300,   900,  2000,   100,\n",
       "         600,   900,   600,   100,   500,   600,   800,   300],\n",
       "      dtype=int64)"
      ]
     },
     "execution_count": 8,
     "metadata": {},
     "output_type": "execute_result"
    }
   ],
   "source": [
    "testw.Order_Demand.values"
   ]
  },
  {
   "cell_type": "code",
   "execution_count": 9,
   "metadata": {},
   "outputs": [],
   "source": [
    "\n",
    "\n",
    "def y(alpha, x):   #exponential smoothers\n",
    "    y = np.zeros(len(x), float)\n",
    "    y[0] = x[0]\n",
    "    for i in range(1, len(x)):\n",
    "        y[i] = x[i-1]*alpha + y[i-1]*(1-alpha)\n",
    "    return y\n",
    "\n",
    "def mae(alpha, x):\n",
    "    diff = np.abs(y(alpha, x) - x)\n",
    "    return np.mean(diff)\n",
    "\n",
    "def mae_2(alpha, x): #funct to optimize:mape\n",
    "    err = 0\n",
    "    for j in range(1, len(x)):\n",
    "        err += np.abs(y(alpha, x[:j+1])[j] - x[j])\n",
    "    return err\n",
    "\n",
    "guess = .5\n",
    "resultw = minimize(mae, guess, (testw.Order_Demand.values,), bounds=[(0,1)], method='SLSQP')"
   ]
  },
  {
   "cell_type": "code",
   "execution_count": 10,
   "metadata": {},
   "outputs": [],
   "source": [
    "def aux_the_minimizator(group):\n",
    "    guess = .5\n",
    "    resultw = minimize(mae, guess, (group.values,), bounds=[(0,1)], method='SLSQP')\n",
    "    return resultw.fun, resultw.x\n",
    "\n",
    "def the_minimizator(df):\n",
    "    coll_d = []\n",
    "    for i in np.unique(df.Product_Code):\n",
    "        df_aux = df[df.Product_Code == i].reset_index()[['Order_Demand']]\n",
    "        mae, alpha = aux_the_minimizator(df_aux.Order_Demand)\n",
    "        coll_d.append((i, mae, alpha, df_aux.shape[0],))\n",
    "    return pd.DataFrame(coll_d , columns = ['Product_Code', 'ES_Mae', 'ES_alpha', 'n_obs'])\n",
    "\n",
    "df_esw = pd.DataFrame()\n",
    "df_esw = the_minimizator(df_w)\n"
   ]
  },
  {
   "cell_type": "code",
   "execution_count": 11,
   "metadata": {},
   "outputs": [
    {
     "data": {
      "text/html": [
       "<div>\n",
       "<style scoped>\n",
       "    .dataframe tbody tr th:only-of-type {\n",
       "        vertical-align: middle;\n",
       "    }\n",
       "\n",
       "    .dataframe tbody tr th {\n",
       "        vertical-align: top;\n",
       "    }\n",
       "\n",
       "    .dataframe thead th {\n",
       "        text-align: right;\n",
       "    }\n",
       "</style>\n",
       "<table border=\"1\" class=\"dataframe\">\n",
       "  <thead>\n",
       "    <tr style=\"text-align: right;\">\n",
       "      <th></th>\n",
       "      <th>Product_Code</th>\n",
       "      <th>ES_Mae</th>\n",
       "      <th>ES_alpha</th>\n",
       "      <th>n_obs</th>\n",
       "    </tr>\n",
       "  </thead>\n",
       "  <tbody>\n",
       "    <tr>\n",
       "      <th>0</th>\n",
       "      <td>1</td>\n",
       "      <td>1462.350866</td>\n",
       "      <td>[0.01904815828334811]</td>\n",
       "      <td>233</td>\n",
       "    </tr>\n",
       "    <tr>\n",
       "      <th>1</th>\n",
       "      <td>2</td>\n",
       "      <td>34489.425860</td>\n",
       "      <td>[0.00850031761556717]</td>\n",
       "      <td>205</td>\n",
       "    </tr>\n",
       "    <tr>\n",
       "      <th>2</th>\n",
       "      <td>3</td>\n",
       "      <td>389.868041</td>\n",
       "      <td>[0.007650230470661936]</td>\n",
       "      <td>182</td>\n",
       "    </tr>\n",
       "    <tr>\n",
       "      <th>3</th>\n",
       "      <td>4</td>\n",
       "      <td>605.652725</td>\n",
       "      <td>[0.06909970010025925]</td>\n",
       "      <td>161</td>\n",
       "    </tr>\n",
       "    <tr>\n",
       "      <th>4</th>\n",
       "      <td>5</td>\n",
       "      <td>332.313937</td>\n",
       "      <td>[0.017834612545123255]</td>\n",
       "      <td>47</td>\n",
       "    </tr>\n",
       "    <tr>\n",
       "      <th>...</th>\n",
       "      <td>...</td>\n",
       "      <td>...</td>\n",
       "      <td>...</td>\n",
       "      <td>...</td>\n",
       "    </tr>\n",
       "    <tr>\n",
       "      <th>2155</th>\n",
       "      <td>2168</td>\n",
       "      <td>160.722538</td>\n",
       "      <td>[0.009935121411422679]</td>\n",
       "      <td>248</td>\n",
       "    </tr>\n",
       "    <tr>\n",
       "      <th>2156</th>\n",
       "      <td>2169</td>\n",
       "      <td>79.035143</td>\n",
       "      <td>[0.004668220640386448]</td>\n",
       "      <td>254</td>\n",
       "    </tr>\n",
       "    <tr>\n",
       "      <th>2157</th>\n",
       "      <td>2170</td>\n",
       "      <td>9.749735</td>\n",
       "      <td>[0.0168833919615704]</td>\n",
       "      <td>137</td>\n",
       "    </tr>\n",
       "    <tr>\n",
       "      <th>2158</th>\n",
       "      <td>2171</td>\n",
       "      <td>6.629479</td>\n",
       "      <td>[0.0023891270156377858]</td>\n",
       "      <td>239</td>\n",
       "    </tr>\n",
       "    <tr>\n",
       "      <th>2159</th>\n",
       "      <td>2172</td>\n",
       "      <td>208.022948</td>\n",
       "      <td>[0.13471617527929247]</td>\n",
       "      <td>42</td>\n",
       "    </tr>\n",
       "  </tbody>\n",
       "</table>\n",
       "<p>2160 rows × 4 columns</p>\n",
       "</div>"
      ],
      "text/plain": [
       "      Product_Code        ES_Mae                 ES_alpha  n_obs\n",
       "0                1   1462.350866    [0.01904815828334811]    233\n",
       "1                2  34489.425860    [0.00850031761556717]    205\n",
       "2                3    389.868041   [0.007650230470661936]    182\n",
       "3                4    605.652725    [0.06909970010025925]    161\n",
       "4                5    332.313937   [0.017834612545123255]     47\n",
       "...            ...           ...                      ...    ...\n",
       "2155          2168    160.722538   [0.009935121411422679]    248\n",
       "2156          2169     79.035143   [0.004668220640386448]    254\n",
       "2157          2170      9.749735     [0.0168833919615704]    137\n",
       "2158          2171      6.629479  [0.0023891270156377858]    239\n",
       "2159          2172    208.022948    [0.13471617527929247]     42\n",
       "\n",
       "[2160 rows x 4 columns]"
      ]
     },
     "execution_count": 11,
     "metadata": {},
     "output_type": "execute_result"
    }
   ],
   "source": [
    "#test to check number of obs and unique product codes \n",
    "dftest = df_esw.copy()\n",
    "dftest.Product_Code = dftest.Product_Code.astype(int)\n",
    "dftest.sort_values(by = 'Product_Code')"
   ]
  },
  {
   "cell_type": "code",
   "execution_count": 12,
   "metadata": {},
   "outputs": [],
   "source": [
    "#merge with week dataset\n",
    "df_esw['Product_Code'] = df_esw['Product_Code'].apply(lambda x: '{0:0>3}'.format(x))\n",
    "df_w['Product_Code'] = df_w['Product_Code'].apply(lambda x: '{0:0>3}'.format(x))\n",
    "df_w_ES_merged = df_w.merge(df_esw, how='left', left_on='Product_Code', right_on='Product_Code')"
   ]
  },
  {
   "cell_type": "code",
   "execution_count": 13,
   "metadata": {},
   "outputs": [],
   "source": [
    "#adding predictions back into main df\n",
    "df_w_ES_merged['Product_Code'] = df_w_ES_merged['Product_Code'].astype('int')\n",
    "df_w_ES_merged['shift'] = df_w_ES_merged.assign(dif = (df_w_ES_merged.Product_Code.diff() == 0).astype(int)).groupby(['Product_Code']).Order_Demand.shift(1)\n",
    "df_w_ES_merged['ES_pred'] = df_w_ES_merged['shift'] + df_w_ES_merged['ES_alpha']*(df_w_ES_merged['Order_Demand'] - df_w_ES_merged['shift'])\n",
    "df_w_ES_merged.drop(['shift'], axis=1, inplace=True)"
   ]
  },
  {
   "cell_type": "markdown",
   "metadata": {},
   "source": [
    "Expontial Smoothing with Monthly Data"
   ]
  },
  {
   "cell_type": "code",
   "execution_count": 14,
   "metadata": {},
   "outputs": [
    {
     "data": {
      "text/html": [
       "<div>\n",
       "<style scoped>\n",
       "    .dataframe tbody tr th:only-of-type {\n",
       "        vertical-align: middle;\n",
       "    }\n",
       "\n",
       "    .dataframe tbody tr th {\n",
       "        vertical-align: top;\n",
       "    }\n",
       "\n",
       "    .dataframe thead th {\n",
       "        text-align: right;\n",
       "    }\n",
       "</style>\n",
       "<table border=\"1\" class=\"dataframe\">\n",
       "  <thead>\n",
       "    <tr style=\"text-align: right;\">\n",
       "      <th></th>\n",
       "      <th>Order_Demand</th>\n",
       "    </tr>\n",
       "  </thead>\n",
       "  <tbody>\n",
       "    <tr>\n",
       "      <th>0</th>\n",
       "      <td>300</td>\n",
       "    </tr>\n",
       "    <tr>\n",
       "      <th>1</th>\n",
       "      <td>9700</td>\n",
       "    </tr>\n",
       "    <tr>\n",
       "      <th>2</th>\n",
       "      <td>13000</td>\n",
       "    </tr>\n",
       "    <tr>\n",
       "      <th>3</th>\n",
       "      <td>14100</td>\n",
       "    </tr>\n",
       "    <tr>\n",
       "      <th>4</th>\n",
       "      <td>3300</td>\n",
       "    </tr>\n",
       "    <tr>\n",
       "      <th>...</th>\n",
       "      <td>...</td>\n",
       "    </tr>\n",
       "    <tr>\n",
       "      <th>56</th>\n",
       "      <td>17500</td>\n",
       "    </tr>\n",
       "    <tr>\n",
       "      <th>57</th>\n",
       "      <td>3300</td>\n",
       "    </tr>\n",
       "    <tr>\n",
       "      <th>58</th>\n",
       "      <td>2100</td>\n",
       "    </tr>\n",
       "    <tr>\n",
       "      <th>59</th>\n",
       "      <td>600</td>\n",
       "    </tr>\n",
       "    <tr>\n",
       "      <th>60</th>\n",
       "      <td>1700</td>\n",
       "    </tr>\n",
       "  </tbody>\n",
       "</table>\n",
       "<p>61 rows × 1 columns</p>\n",
       "</div>"
      ],
      "text/plain": [
       "    Order_Demand\n",
       "0            300\n",
       "1           9700\n",
       "2          13000\n",
       "3          14100\n",
       "4           3300\n",
       "..           ...\n",
       "56         17500\n",
       "57          3300\n",
       "58          2100\n",
       "59           600\n",
       "60          1700\n",
       "\n",
       "[61 rows x 1 columns]"
      ]
     },
     "execution_count": 14,
     "metadata": {},
     "output_type": "execute_result"
    }
   ],
   "source": [
    "testm = df_m[df_m.Product_Code == '0001'].reset_index()[['Order_Demand']]\n",
    "testm"
   ]
  },
  {
   "cell_type": "code",
   "execution_count": 15,
   "metadata": {},
   "outputs": [
    {
     "data": {
      "text/plain": [
       "array([  300,  9700, 13000, 14100,  3300,  9200,  6400, 10100,  9300,\n",
       "        6700, 16000,  7400,  6000,  6900,  8700, 12100,  7000,  3800,\n",
       "        9700,  9000,  4400,  5800, 11400, 13200,  5900,  6200,  5000,\n",
       "        5900,  7800,  6300,  9800, 10100, 10100,  8900, 10900, 12400,\n",
       "        5000,  3500,  9100,  7200,  5800,  5400,  4000,  6500, 11400,\n",
       "        9000,  2300,  4200,  2200,  2100,  6300,  9300,  3400, 16900,\n",
       "        5300,  9300, 17500,  3300,  2100,   600,  1700], dtype=int64)"
      ]
     },
     "execution_count": 15,
     "metadata": {},
     "output_type": "execute_result"
    }
   ],
   "source": [
    "testm.Order_Demand.values"
   ]
  },
  {
   "cell_type": "code",
   "execution_count": 16,
   "metadata": {},
   "outputs": [],
   "source": [
    "\n",
    "\n",
    "def y(alpha, x):   #exponential smoothers\n",
    "    y = np.zeros(len(x), float)\n",
    "    y[0] = x[0]\n",
    "    for i in range(1, len(x)):\n",
    "        y[i] = x[i-1]*alpha + y[i-1]*(1-alpha)\n",
    "    return y\n",
    "\n",
    "def mae(alpha, x):\n",
    "    diff = np.abs(y(alpha, x) - x)\n",
    "    return np.mean(diff)\n",
    "\n",
    "def mae_2(alpha, x): #funct to optimize:mape\n",
    "    err = 0\n",
    "    for j in range(1, len(x)):\n",
    "        err += np.abs(y(alpha, x[:j+1])[j] - x[j])\n",
    "    return err\n",
    "\n",
    "guess = .5\n",
    "resultm = minimize(mae, guess, (testm.Order_Demand.values,), bounds=[(0,1)], method='SLSQP')"
   ]
  },
  {
   "cell_type": "code",
   "execution_count": 17,
   "metadata": {},
   "outputs": [],
   "source": [
    "def aux_the_minimizator(group):\n",
    "    guess = .5\n",
    "    resultm = minimize(mae, guess, (group.values,), bounds=[(0,1)], method='SLSQP')\n",
    "    return resultm.fun, resultm.x\n",
    "\n",
    "def the_minimizator(df):\n",
    "    coll_d = []\n",
    "    for i in np.unique(df.Product_Code):\n",
    "        df_aux = df[df.Product_Code == i].reset_index()[['Order_Demand']]\n",
    "        mae, alpha = aux_the_minimizator(df_aux.Order_Demand)\n",
    "        #es_pred = \n",
    "        coll_d.append((i, mae, alpha, df_aux.shape[0],))\n",
    "    return pd.DataFrame(coll_d , columns = ['Product_Code', 'ES_Mae', 'ES_alpha', 'n_obs'])\n",
    "\n",
    "df_esm = pd.DataFrame()\n",
    "df_esm = the_minimizator(df_m)"
   ]
  },
  {
   "cell_type": "code",
   "execution_count": 18,
   "metadata": {},
   "outputs": [
    {
     "data": {
      "text/html": [
       "<div>\n",
       "<style scoped>\n",
       "    .dataframe tbody tr th:only-of-type {\n",
       "        vertical-align: middle;\n",
       "    }\n",
       "\n",
       "    .dataframe tbody tr th {\n",
       "        vertical-align: top;\n",
       "    }\n",
       "\n",
       "    .dataframe thead th {\n",
       "        text-align: right;\n",
       "    }\n",
       "</style>\n",
       "<table border=\"1\" class=\"dataframe\">\n",
       "  <thead>\n",
       "    <tr style=\"text-align: right;\">\n",
       "      <th></th>\n",
       "      <th>Product_Code</th>\n",
       "      <th>ES_Mae</th>\n",
       "      <th>ES_alpha</th>\n",
       "      <th>n_obs</th>\n",
       "    </tr>\n",
       "  </thead>\n",
       "  <tbody>\n",
       "    <tr>\n",
       "      <th>0</th>\n",
       "      <td>1</td>\n",
       "      <td>3463.915535</td>\n",
       "      <td>[0.5737163935276077]</td>\n",
       "      <td>61</td>\n",
       "    </tr>\n",
       "    <tr>\n",
       "      <th>1</th>\n",
       "      <td>2</td>\n",
       "      <td>90638.770835</td>\n",
       "      <td>[0.4804919633178123]</td>\n",
       "      <td>61</td>\n",
       "    </tr>\n",
       "    <tr>\n",
       "      <th>2</th>\n",
       "      <td>3</td>\n",
       "      <td>1007.039406</td>\n",
       "      <td>[0.07994563145007264]</td>\n",
       "      <td>60</td>\n",
       "    </tr>\n",
       "    <tr>\n",
       "      <th>3</th>\n",
       "      <td>4</td>\n",
       "      <td>1061.422428</td>\n",
       "      <td>[0.11010917040467995]</td>\n",
       "      <td>56</td>\n",
       "    </tr>\n",
       "    <tr>\n",
       "      <th>4</th>\n",
       "      <td>5</td>\n",
       "      <td>460.089742</td>\n",
       "      <td>[0.03402980347529575]</td>\n",
       "      <td>34</td>\n",
       "    </tr>\n",
       "    <tr>\n",
       "      <th>...</th>\n",
       "      <td>...</td>\n",
       "      <td>...</td>\n",
       "      <td>...</td>\n",
       "      <td>...</td>\n",
       "    </tr>\n",
       "    <tr>\n",
       "      <th>2155</th>\n",
       "      <td>2168</td>\n",
       "      <td>338.306648</td>\n",
       "      <td>[0.16488624229569848]</td>\n",
       "      <td>60</td>\n",
       "    </tr>\n",
       "    <tr>\n",
       "      <th>2156</th>\n",
       "      <td>2169</td>\n",
       "      <td>217.279145</td>\n",
       "      <td>[0.26304803749376066]</td>\n",
       "      <td>61</td>\n",
       "    </tr>\n",
       "    <tr>\n",
       "      <th>2157</th>\n",
       "      <td>2170</td>\n",
       "      <td>19.805020</td>\n",
       "      <td>[0.34363680805513785]</td>\n",
       "      <td>57</td>\n",
       "    </tr>\n",
       "    <tr>\n",
       "      <th>2158</th>\n",
       "      <td>2171</td>\n",
       "      <td>15.133333</td>\n",
       "      <td>[0.0]</td>\n",
       "      <td>60</td>\n",
       "    </tr>\n",
       "    <tr>\n",
       "      <th>2159</th>\n",
       "      <td>2172</td>\n",
       "      <td>204.523788</td>\n",
       "      <td>[0.23469494817868694]</td>\n",
       "      <td>30</td>\n",
       "    </tr>\n",
       "  </tbody>\n",
       "</table>\n",
       "<p>2160 rows × 4 columns</p>\n",
       "</div>"
      ],
      "text/plain": [
       "      Product_Code        ES_Mae               ES_alpha  n_obs\n",
       "0                1   3463.915535   [0.5737163935276077]     61\n",
       "1                2  90638.770835   [0.4804919633178123]     61\n",
       "2                3   1007.039406  [0.07994563145007264]     60\n",
       "3                4   1061.422428  [0.11010917040467995]     56\n",
       "4                5    460.089742  [0.03402980347529575]     34\n",
       "...            ...           ...                    ...    ...\n",
       "2155          2168    338.306648  [0.16488624229569848]     60\n",
       "2156          2169    217.279145  [0.26304803749376066]     61\n",
       "2157          2170     19.805020  [0.34363680805513785]     57\n",
       "2158          2171     15.133333                  [0.0]     60\n",
       "2159          2172    204.523788  [0.23469494817868694]     30\n",
       "\n",
       "[2160 rows x 4 columns]"
      ]
     },
     "execution_count": 18,
     "metadata": {},
     "output_type": "execute_result"
    }
   ],
   "source": [
    "#test to check number of obs and unique product codes \n",
    "dftest = df_esm.copy()\n",
    "dftest.Product_Code = dftest.Product_Code.astype(int)\n",
    "dftest.sort_values(by = 'Product_Code')"
   ]
  },
  {
   "cell_type": "code",
   "execution_count": 19,
   "metadata": {},
   "outputs": [],
   "source": [
    "#merge with month dataset\n",
    "df_m['Product_Code'] = df_m['Product_Code'].apply(lambda x: '{0:0>3}'.format(x))\n",
    "df_m_ES_merged = df_m.merge(df_esm, how='left', left_on='Product_Code', right_on='Product_Code')"
   ]
  },
  {
   "cell_type": "code",
   "execution_count": null,
   "metadata": {},
   "outputs": [],
   "source": []
  },
  {
   "cell_type": "code",
   "execution_count": 20,
   "metadata": {},
   "outputs": [
    {
     "data": {
      "text/html": [
       "<div>\n",
       "<style scoped>\n",
       "    .dataframe tbody tr th:only-of-type {\n",
       "        vertical-align: middle;\n",
       "    }\n",
       "\n",
       "    .dataframe tbody tr th {\n",
       "        vertical-align: top;\n",
       "    }\n",
       "\n",
       "    .dataframe thead th {\n",
       "        text-align: right;\n",
       "    }\n",
       "</style>\n",
       "<table border=\"1\" class=\"dataframe\">\n",
       "  <thead>\n",
       "    <tr style=\"text-align: right;\">\n",
       "      <th></th>\n",
       "      <th>Product_Code</th>\n",
       "      <th>Date</th>\n",
       "      <th>Order_Demand</th>\n",
       "      <th>Warehouse</th>\n",
       "      <th>Product_Category</th>\n",
       "      <th>ES_Mae</th>\n",
       "      <th>ES_alpha</th>\n",
       "      <th>n_obs</th>\n",
       "      <th>ES_pred</th>\n",
       "    </tr>\n",
       "  </thead>\n",
       "  <tbody>\n",
       "    <tr>\n",
       "      <th>0</th>\n",
       "      <td>1</td>\n",
       "      <td>2011-12</td>\n",
       "      <td>300</td>\n",
       "      <td>J</td>\n",
       "      <td>005</td>\n",
       "      <td>3463.915535</td>\n",
       "      <td>[0.5737163935276077]</td>\n",
       "      <td>61</td>\n",
       "      <td>[nan]</td>\n",
       "    </tr>\n",
       "    <tr>\n",
       "      <th>1</th>\n",
       "      <td>1</td>\n",
       "      <td>2012-01</td>\n",
       "      <td>9700</td>\n",
       "      <td>J</td>\n",
       "      <td>005</td>\n",
       "      <td>3463.915535</td>\n",
       "      <td>[0.5737163935276077]</td>\n",
       "      <td>61</td>\n",
       "      <td>[5692.934099159513]</td>\n",
       "    </tr>\n",
       "    <tr>\n",
       "      <th>2</th>\n",
       "      <td>1</td>\n",
       "      <td>2012-02</td>\n",
       "      <td>13000</td>\n",
       "      <td>J</td>\n",
       "      <td>005</td>\n",
       "      <td>3463.915535</td>\n",
       "      <td>[0.5737163935276077]</td>\n",
       "      <td>61</td>\n",
       "      <td>[11593.264098641106]</td>\n",
       "    </tr>\n",
       "    <tr>\n",
       "      <th>3</th>\n",
       "      <td>1</td>\n",
       "      <td>2012-03</td>\n",
       "      <td>14100</td>\n",
       "      <td>J</td>\n",
       "      <td>005</td>\n",
       "      <td>3463.915535</td>\n",
       "      <td>[0.5737163935276077]</td>\n",
       "      <td>61</td>\n",
       "      <td>[13631.088032880369]</td>\n",
       "    </tr>\n",
       "    <tr>\n",
       "      <th>4</th>\n",
       "      <td>1</td>\n",
       "      <td>2012-04</td>\n",
       "      <td>3300</td>\n",
       "      <td>J</td>\n",
       "      <td>005</td>\n",
       "      <td>3463.915535</td>\n",
       "      <td>[0.5737163935276077]</td>\n",
       "      <td>61</td>\n",
       "      <td>[7903.862949901836]</td>\n",
       "    </tr>\n",
       "    <tr>\n",
       "      <th>...</th>\n",
       "      <td>...</td>\n",
       "      <td>...</td>\n",
       "      <td>...</td>\n",
       "      <td>...</td>\n",
       "      <td>...</td>\n",
       "      <td>...</td>\n",
       "      <td>...</td>\n",
       "      <td>...</td>\n",
       "      <td>...</td>\n",
       "    </tr>\n",
       "    <tr>\n",
       "      <th>105519</th>\n",
       "      <td>2172</td>\n",
       "      <td>2016-07</td>\n",
       "      <td>1000</td>\n",
       "      <td>J</td>\n",
       "      <td>005</td>\n",
       "      <td>204.523788</td>\n",
       "      <td>[0.23469494817868694]</td>\n",
       "      <td>30</td>\n",
       "      <td>[923.4694948178687]</td>\n",
       "    </tr>\n",
       "    <tr>\n",
       "      <th>105520</th>\n",
       "      <td>2172</td>\n",
       "      <td>2016-08</td>\n",
       "      <td>900</td>\n",
       "      <td>J</td>\n",
       "      <td>005</td>\n",
       "      <td>204.523788</td>\n",
       "      <td>[0.23469494817868694]</td>\n",
       "      <td>30</td>\n",
       "      <td>[976.5305051821313]</td>\n",
       "    </tr>\n",
       "    <tr>\n",
       "      <th>105521</th>\n",
       "      <td>2172</td>\n",
       "      <td>2016-09</td>\n",
       "      <td>1200</td>\n",
       "      <td>J</td>\n",
       "      <td>005</td>\n",
       "      <td>204.523788</td>\n",
       "      <td>[0.23469494817868694]</td>\n",
       "      <td>30</td>\n",
       "      <td>[970.4084844536061]</td>\n",
       "    </tr>\n",
       "    <tr>\n",
       "      <th>105522</th>\n",
       "      <td>2172</td>\n",
       "      <td>2016-10</td>\n",
       "      <td>900</td>\n",
       "      <td>J</td>\n",
       "      <td>005</td>\n",
       "      <td>204.523788</td>\n",
       "      <td>[0.23469494817868694]</td>\n",
       "      <td>30</td>\n",
       "      <td>[1129.591515546394]</td>\n",
       "    </tr>\n",
       "    <tr>\n",
       "      <th>105523</th>\n",
       "      <td>2172</td>\n",
       "      <td>2016-11</td>\n",
       "      <td>900</td>\n",
       "      <td>J</td>\n",
       "      <td>005</td>\n",
       "      <td>204.523788</td>\n",
       "      <td>[0.23469494817868694]</td>\n",
       "      <td>30</td>\n",
       "      <td>[900.0]</td>\n",
       "    </tr>\n",
       "  </tbody>\n",
       "</table>\n",
       "<p>105524 rows × 9 columns</p>\n",
       "</div>"
      ],
      "text/plain": [
       "        Product_Code     Date  Order_Demand Warehouse Product_Category  \\\n",
       "0                  1  2011-12           300         J              005   \n",
       "1                  1  2012-01          9700         J              005   \n",
       "2                  1  2012-02         13000         J              005   \n",
       "3                  1  2012-03         14100         J              005   \n",
       "4                  1  2012-04          3300         J              005   \n",
       "...              ...      ...           ...       ...              ...   \n",
       "105519          2172  2016-07          1000         J              005   \n",
       "105520          2172  2016-08           900         J              005   \n",
       "105521          2172  2016-09          1200         J              005   \n",
       "105522          2172  2016-10           900         J              005   \n",
       "105523          2172  2016-11           900         J              005   \n",
       "\n",
       "             ES_Mae               ES_alpha  n_obs               ES_pred  \n",
       "0       3463.915535   [0.5737163935276077]     61                 [nan]  \n",
       "1       3463.915535   [0.5737163935276077]     61   [5692.934099159513]  \n",
       "2       3463.915535   [0.5737163935276077]     61  [11593.264098641106]  \n",
       "3       3463.915535   [0.5737163935276077]     61  [13631.088032880369]  \n",
       "4       3463.915535   [0.5737163935276077]     61   [7903.862949901836]  \n",
       "...             ...                    ...    ...                   ...  \n",
       "105519   204.523788  [0.23469494817868694]     30   [923.4694948178687]  \n",
       "105520   204.523788  [0.23469494817868694]     30   [976.5305051821313]  \n",
       "105521   204.523788  [0.23469494817868694]     30   [970.4084844536061]  \n",
       "105522   204.523788  [0.23469494817868694]     30   [1129.591515546394]  \n",
       "105523   204.523788  [0.23469494817868694]     30               [900.0]  \n",
       "\n",
       "[105524 rows x 9 columns]"
      ]
     },
     "execution_count": 20,
     "metadata": {},
     "output_type": "execute_result"
    }
   ],
   "source": [
    "#adding predictions back into main df\n",
    "df_m_ES_merged['Product_Code'] = df_m_ES_merged['Product_Code'].astype('int')\n",
    "df_m_ES_merged['shift'] = df_m_ES_merged.assign(dif = (df_m_ES_merged.Product_Code.diff() == 0).astype(int)).groupby(['Product_Code']).Order_Demand.shift(1)\n",
    "df_m_ES_merged['ES_pred'] = df_m_ES_merged['shift'] + df_m_ES_merged['ES_alpha']*(df_m_ES_merged['Order_Demand'] - df_m_ES_merged['shift'])\n",
    "df_m_ES_merged.drop(['shift'], axis=1)\n"
   ]
  },
  {
   "cell_type": "markdown",
   "metadata": {},
   "source": [
    "Regression on Weekly Data\n"
   ]
  },
  {
   "cell_type": "code",
   "execution_count": 21,
   "metadata": {},
   "outputs": [],
   "source": [
    "df_w['Product_Code'] = df_w['Product_Code'].astype('int')\n",
    "df_w['count'] = df_w.assign(dif = (df_w.Product_Code.diff() == 0).astype(int)).groupby(['Product_Code']).dif.apply(lambda x : x.cumsum().rank(method='dense'))"
   ]
  },
  {
   "cell_type": "code",
   "execution_count": 22,
   "metadata": {},
   "outputs": [],
   "source": [
    "df_w['Product_Code'] = df_w['Product_Code'].astype('str')\n"
   ]
  },
  {
   "cell_type": "code",
   "execution_count": 23,
   "metadata": {},
   "outputs": [],
   "source": [
    "\n",
    "\n",
    "def linear_est_lt(df, PC):\n",
    "    \n",
    "    assert isinstance(PC, str) == True    \n",
    "    df_by_PC = df[df.loc[:,'Product_Code'] == PC][['count','Order_Demand']].reset_index(drop = True)\n",
    "\n",
    "    try:\n",
    "        assert df_by_PC.shape[0] > 1\n",
    "    \n",
    "        X = df_by_PC.drop(columns= ['Order_Demand'], axis = 1)\n",
    "        X = sm.add_constant(X)\n",
    "        y = df_by_PC.loc[:,'Order_Demand']\n",
    "\n",
    "        mod = sm.OLS(y,X)\n",
    "        res = mod.fit()\n",
    "\n",
    "\n",
    "        #print(res.summary())\n",
    "        est_param = res.params.to_dict()\n",
    "        t = True, PC, res\n",
    "        #print(supplier, est_param)\n",
    "        return t\n",
    "    except:\n",
    "        #print(f\"Not enough datapoints, only {df_by_supplier.shape[0]} for supplier {supplier}\")\n",
    "        t = False, PC, \"Not Enough DataPoints\"\n",
    "        return t\n",
    "\n",
    "def _build_single_db(df, PC):\n",
    "    \"\"\"\n",
    "    This function builds a database for each supplier\n",
    "    \"\"\"\n",
    "    create, pc, res = linear_est_lt(df, PC)\n",
    "    if create:\n",
    "        param = res.params.to_dict()\n",
    "        tuple_all = pc, param['const'], param['count']\n",
    "        \n",
    "        db_prod = pd.DataFrame([tuple_all], columns = ['Product_Code', 'const', 'b_count'])\n",
    "        return db_prod\n",
    "    else:\n",
    "        return False\n"
   ]
  },
  {
   "cell_type": "code",
   "execution_count": 24,
   "metadata": {},
   "outputs": [],
   "source": [
    "def build_db(df):\n",
    "\n",
    "    product_codes = df['Product_Code'].unique()\n",
    "    final_db = _build_single_db(df, product_codes[0])  \n",
    "    excluded = []\n",
    "    for pc in product_codes[1:]:\n",
    "        try:\n",
    "            add_db = _build_single_db(df, pc)\n",
    "        except:\n",
    "            print(pc)\n",
    "        if isinstance(add_db, bool):\n",
    "            excluded.append(pc)\n",
    "        else:\n",
    "            final_db = pd.concat([final_db, _build_single_db(df, pc)])\n",
    "    return excluded, final_db.reset_index(drop = True)"
   ]
  },
  {
   "cell_type": "code",
   "execution_count": 25,
   "metadata": {},
   "outputs": [
    {
     "data": {
      "text/plain": [
       "(['465', '853', '1703', '2099'],\n",
       "      Product_Code         const    b_count\n",
       " 0               1   2337.512950  -3.244214\n",
       " 1               2  37171.449067  55.688039\n",
       " 2               3    402.993139   2.681514\n",
       " 3               4    524.945652   3.050667\n",
       " 4               5    332.654949   5.908881\n",
       " ...           ...           ...        ...\n",
       " 2151         2168    210.800085  -0.112269\n",
       " 2152         2169    118.217018  -0.197194\n",
       " 2153         2170     12.013418   0.023396\n",
       " 2154         2171      9.105341   0.000621\n",
       " 2155         2172    161.556330  11.644113\n",
       " \n",
       " [2156 rows x 3 columns])"
      ]
     },
     "execution_count": 25,
     "metadata": {},
     "output_type": "execute_result"
    }
   ],
   "source": [
    "build_db(df_w)"
   ]
  },
  {
   "cell_type": "code",
   "execution_count": 26,
   "metadata": {},
   "outputs": [],
   "source": [
    "_, final = build_db(df_w)"
   ]
  },
  {
   "cell_type": "code",
   "execution_count": 27,
   "metadata": {},
   "outputs": [],
   "source": [
    "df_reg_w = df_w.merge(final, how='left', left_on='Product_Code', right_on='Product_Code')"
   ]
  },
  {
   "cell_type": "code",
   "execution_count": 28,
   "metadata": {},
   "outputs": [],
   "source": [
    "df_reg_w['forecast'] = df_reg_w['const'] + (df_reg_w['count'] * df_reg_w['b_count'])\n",
    "df_reg_w['reg_error'] = abs(df_reg_w['forecast'] - df_reg_w['Order_Demand'])\n"
   ]
  },
  {
   "cell_type": "code",
   "execution_count": 29,
   "metadata": {},
   "outputs": [],
   "source": [
    "df_reg_errorw = df_reg_w.groupby(['Product_Code']).agg({'reg_error':np.mean})\n",
    "df_reg_errorw.reset_index(inplace=True)\n"
   ]
  },
  {
   "cell_type": "code",
   "execution_count": 30,
   "metadata": {},
   "outputs": [
    {
     "data": {
      "text/plain": [
       "Product_Code                int32\n",
       "Date                period[W-SUN]\n",
       "Order_Demand                int64\n",
       "Warehouse                  object\n",
       "Product_Category           object\n",
       "ES_Mae                    float64\n",
       "ES_alpha                   object\n",
       "n_obs                       int64\n",
       "ES_pred                    object\n",
       "dtype: object"
      ]
     },
     "execution_count": 30,
     "metadata": {},
     "output_type": "execute_result"
    }
   ],
   "source": [
    "df_w_ES_merged.dtypes"
   ]
  },
  {
   "cell_type": "code",
   "execution_count": 31,
   "metadata": {},
   "outputs": [],
   "source": [
    "#merge with weekly\n",
    "df_w_ES_merged['Product_Code'] = df_w_ES_merged['Product_Code'].astype('object')\n",
    "df_reg_errorw['Product_Code'] = df_reg_errorw['Product_Code'].apply(lambda x: '{0:0>4}'.format(x))\n",
    "df_w_ES_merged['Product_Code'] = df_w_ES_merged['Product_Code'].apply(lambda x: '{0:0>4}'.format(x))\n",
    "df_final_w = df_w_ES_merged.merge(df_reg_errorw, how='left', left_on='Product_Code', right_on='Product_Code')"
   ]
  },
  {
   "cell_type": "code",
   "execution_count": null,
   "metadata": {},
   "outputs": [],
   "source": []
  },
  {
   "cell_type": "code",
   "execution_count": 32,
   "metadata": {},
   "outputs": [],
   "source": [
    "\n",
    "df_final_w['reg_forecast'] = df_reg_w['forecast']"
   ]
  },
  {
   "cell_type": "markdown",
   "metadata": {},
   "source": [
    "Regression with Montly data"
   ]
  },
  {
   "cell_type": "code",
   "execution_count": 33,
   "metadata": {},
   "outputs": [],
   "source": [
    "df_m['Product_Code'] = df_m['Product_Code'].astype('int')\n",
    "df_m['count'] = df_m.assign(dif = (df_m.Product_Code.diff() == 0).astype(int)).groupby(['Product_Code']).dif.apply(lambda x : x.cumsum().rank(method='dense'))"
   ]
  },
  {
   "cell_type": "code",
   "execution_count": 34,
   "metadata": {},
   "outputs": [],
   "source": [
    "df_m['Product_Code'] = df_m['Product_Code'].astype('str')\n"
   ]
  },
  {
   "cell_type": "code",
   "execution_count": 35,
   "metadata": {},
   "outputs": [
    {
     "data": {
      "text/plain": [
       "(['465', '853', '1703', '2099'],\n",
       "      Product_Code          const     b_count\n",
       " 0               1    9043.442623  -50.475939\n",
       " 1               2  134132.786885  324.643046\n",
       " 2               3    1085.141243   28.902473\n",
       " 3               4     818.506494   49.162679\n",
       " 4               5     374.331551   16.088617\n",
       " ...           ...            ...         ...\n",
       " 2151         2168     883.299435   -2.287413\n",
       " 2152         2169     488.818033   -3.266473\n",
       " 2153         2170      30.823935    0.066567\n",
       " 2154         2171      38.261582   -0.055571\n",
       " 2155         2172      13.563218   36.329255\n",
       " \n",
       " [2156 rows x 3 columns])"
      ]
     },
     "execution_count": 35,
     "metadata": {},
     "output_type": "execute_result"
    }
   ],
   "source": [
    "build_db(df_m)"
   ]
  },
  {
   "cell_type": "code",
   "execution_count": 36,
   "metadata": {},
   "outputs": [],
   "source": [
    "_, final = build_db(df_m)"
   ]
  },
  {
   "cell_type": "code",
   "execution_count": 37,
   "metadata": {},
   "outputs": [],
   "source": [
    "df_reg_m = df_m.merge(final, how='left', left_on='Product_Code', right_on='Product_Code')"
   ]
  },
  {
   "cell_type": "code",
   "execution_count": 38,
   "metadata": {},
   "outputs": [],
   "source": [
    "df_reg_m['forecast'] = df_reg_m['const'] + (df_reg_m['count'] * df_reg_m['b_count'])\n",
    "df_reg_m['reg_error'] = abs(df_reg_m['forecast'] - df_reg_m['Order_Demand'])"
   ]
  },
  {
   "cell_type": "code",
   "execution_count": 39,
   "metadata": {},
   "outputs": [],
   "source": [
    "df_reg_errorm = df_reg_m.groupby(['Product_Code']).agg({'reg_error':np.mean})\n",
    "df_reg_errorm.reset_index(inplace=True)\n"
   ]
  },
  {
   "cell_type": "code",
   "execution_count": 40,
   "metadata": {},
   "outputs": [],
   "source": [
    "#merge with monthly\n",
    "df_m_ES_merged['Product_Code'] = df_m_ES_merged['Product_Code'].astype('object')\n",
    "df_reg_errorm['Product_Code'] = df_reg_errorm['Product_Code'].apply(lambda x: '{0:0>4}'.format(x))\n",
    "df_m_ES_merged['Product_Code'] = df_m_ES_merged['Product_Code'].apply(lambda x: '{0:0>4}'.format(x))\n",
    "df_final_m = df_m_ES_merged.merge(df_reg_errorm, how='left', left_on='Product_Code', right_on='Product_Code')"
   ]
  },
  {
   "cell_type": "code",
   "execution_count": 41,
   "metadata": {},
   "outputs": [],
   "source": [
    "df_final_m['reg_forecast'] = df_reg_m['forecast']"
   ]
  },
  {
   "cell_type": "markdown",
   "metadata": {},
   "source": [
    "Moving Average Weekly"
   ]
  },
  {
   "cell_type": "code",
   "execution_count": 42,
   "metadata": {},
   "outputs": [],
   "source": [
    "df_final_w.sort_values(by=['Product_Code','Date'], inplace = True)"
   ]
  },
  {
   "cell_type": "code",
   "execution_count": 43,
   "metadata": {},
   "outputs": [],
   "source": [
    "df_wma = pd.DataFrame()\n",
    "df_wma['Order_Demand'] = df_final_w['Order_Demand']\n",
    "df_wma['Product_Code'] = df_final_w['Product_Code']\n",
    "df_wma['Date'] = df_final_w['Date']\n",
    "df_wma['rolling_mean'] = df_wma.set_index('Date').groupby('Product_Code', sort=False)['Order_Demand'].rolling(3,freq='d').mean().round(2).to_numpy()\n",
    "df_wma.dropna(inplace = True)\n",
    "\n"
   ]
  },
  {
   "cell_type": "code",
   "execution_count": 44,
   "metadata": {},
   "outputs": [],
   "source": [
    "df_wma['roll_error'] = abs(df_wma['rolling_mean'] - df_wma['Order_Demand'])\n",
    "df_wma2 = df_wma.groupby(['Product_Code']).agg({'roll_error':np.mean})\n",
    "df_wma2.reset_index(inplace=True)\n"
   ]
  },
  {
   "cell_type": "code",
   "execution_count": 45,
   "metadata": {},
   "outputs": [],
   "source": [
    "df_final_w['rolling_mean'] = df_wma['rolling_mean']"
   ]
  },
  {
   "cell_type": "code",
   "execution_count": 46,
   "metadata": {},
   "outputs": [],
   "source": [
    "df_final_w = df_final_w.merge(df_wma2, how='left', left_on='Product_Code', right_on='Product_Code')\n"
   ]
  },
  {
   "cell_type": "markdown",
   "metadata": {},
   "source": [
    "Moving Average Monthly"
   ]
  },
  {
   "cell_type": "code",
   "execution_count": 47,
   "metadata": {},
   "outputs": [],
   "source": [
    "df_final_m.sort_values(by=['Product_Code','Date'], inplace = True)"
   ]
  },
  {
   "cell_type": "code",
   "execution_count": 48,
   "metadata": {},
   "outputs": [],
   "source": [
    "df_mma = pd.DataFrame()\n",
    "df_mma['Product_Code'] = df_final_m['Product_Code']\n",
    "df_mma['Order_Demand'] = df_final_m['Order_Demand']\n",
    "df_mma['Date'] = df_final_m['Date']\n",
    "\n",
    "df_mma['rolling_mean'] = df_mma.set_index('Date').groupby('Product_Code', sort=False)['Order_Demand'].rolling(3,freq='d').mean().round(2).to_numpy()\n",
    "df_mma.dropna(inplace = True)"
   ]
  },
  {
   "cell_type": "code",
   "execution_count": 49,
   "metadata": {},
   "outputs": [],
   "source": [
    "df_mma['roll_error'] = abs(df_mma['rolling_mean'] - df_mma['Order_Demand'])\n",
    "df_mma2 = df_mma.groupby(['Product_Code']).agg({'roll_error':np.mean})\n",
    "df_mma2.reset_index(inplace=True)\n"
   ]
  },
  {
   "cell_type": "code",
   "execution_count": 50,
   "metadata": {},
   "outputs": [],
   "source": [
    "df_final_m['rolling_mean'] = df_mma['rolling_mean']"
   ]
  },
  {
   "cell_type": "code",
   "execution_count": 51,
   "metadata": {},
   "outputs": [],
   "source": [
    "df_final_m = df_final_m.merge(df_mma2, how='left', left_on='Product_Code', right_on='Product_Code')\n"
   ]
  },
  {
   "cell_type": "markdown",
   "metadata": {},
   "source": [
    "Fixup"
   ]
  },
  {
   "cell_type": "code",
   "execution_count": 52,
   "metadata": {},
   "outputs": [],
   "source": [
    "\n",
    "df_final_w['ES_pred'] = df_final_w['ES_pred'].astype('str')\n",
    "df_final_m['ES_pred'] = df_final_m['ES_pred'].astype('str')\n",
    "df_final_w['Date'] = df_final_w['Date'].astype('str')\n",
    "df_final_m['Date'] = df_final_m['Date'].astype('str')"
   ]
  },
  {
   "cell_type": "code",
   "execution_count": 53,
   "metadata": {},
   "outputs": [],
   "source": [
    "\n",
    "df_final_w['ES_pred'] = df_final_w['ES_pred'].str.strip('[]')\n",
    "df_final_m['ES_pred'] = df_final_m['ES_pred'].str.strip('[]')\n",
    "\n"
   ]
  },
  {
   "cell_type": "code",
   "execution_count": 54,
   "metadata": {},
   "outputs": [],
   "source": [
    "df_final_w['Date'] = [x.split('/')[0] for x in df_final_w['Date']]"
   ]
  },
  {
   "cell_type": "code",
   "execution_count": 68,
   "metadata": {},
   "outputs": [],
   "source": [
    "\n",
    "Lowest_es = df_final_m.groupby(['Product_Code']).ES_MAPE.mean().sort_values()\n"
   ]
  },
  {
   "cell_type": "markdown",
   "metadata": {},
   "source": [
    "Conversion to CSV"
   ]
  },
  {
   "cell_type": "code",
   "execution_count": 63,
   "metadata": {},
   "outputs": [],
   "source": [
    "\n",
    "df_final_w.to_csv(r'C:\\Users\\xelin\\OneDrive\\Desktop\\Graduate School\\3rd trimester\\supply chain + forecasting\\final\\final_weeklyII.csv')\n",
    "df_final_m.to_csv(r'C:\\Users\\xelin\\OneDrive\\Desktop\\Graduate School\\3rd trimester\\supply chain + forecasting\\final\\final_monthlyII.csv')"
   ]
  },
  {
   "cell_type": "markdown",
   "metadata": {},
   "source": [
    "Code takes 11:52 minutes to run"
   ]
  }
 ],
 "metadata": {
  "interpreter": {
   "hash": "745d2542204f8334614354e24f96d2adbce1fea51296d84a9260b5eb252bbed0"
  },
  "kernelspec": {
   "display_name": "Python 3.8.5 ('base')",
   "language": "python",
   "name": "python3"
  },
  "language_info": {
   "codemirror_mode": {
    "name": "ipython",
    "version": 3
   },
   "file_extension": ".py",
   "mimetype": "text/x-python",
   "name": "python",
   "nbconvert_exporter": "python",
   "pygments_lexer": "ipython3",
   "version": "3.8.5"
  },
  "orig_nbformat": 4
 },
 "nbformat": 4,
 "nbformat_minor": 2
}
